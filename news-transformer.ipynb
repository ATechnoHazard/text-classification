{
 "cells": [
  {
   "cell_type": "markdown",
   "execution_count": null,
   "metadata": {},
   "source": [
    "# Import libraries\n",
    "\n",
    "We are going to use TPUs for this, since transformers including distilBERT are very heavy duty, and we'll need a lot of computational power for this one."
   ]
  },
  {
   "cell_type": "code",
   "execution_count": 1,
   "metadata": {
    "_cell_guid": "b1076dfc-b9ad-4769-8c92-a6c4dae69d19",
    "_uuid": "8f2839f25d086af736a60e9eeb907d3b93b6e0e5"
   },
   "outputs": [
    {
     "name": "stderr",
     "output_type": "stream",
     "text": [
      "\u001b[34m\u001b[1mwandb\u001b[0m: \u001b[33mWARNING\u001b[0m W&B installed but not logged in.  Run `wandb login` or set the WANDB_API_KEY env variable.\n"
     ]
    }
   ],
   "source": [
    "import numpy as np\n",
    "import pandas as pd\n",
    "import tensorflow as tf\n",
    "import matplotlib.pyplot as plt\n",
    "from tqdm import tqdm\n",
    "\n",
    "from transformers import DistilBertTokenizer, DistilBertConfig, TFDistilBertModel\n",
    "\n",
    "from sklearn.model_selection import train_test_split\n",
    "from sklearn.feature_extraction.text import CountVectorizer\n",
    "from mlxtend.plotting import plot_confusion_matrix\n",
    "from sklearn.metrics import confusion_matrix, precision_score, recall_score\n",
    "\n",
    "from tensorflow.keras.models import Model, Sequential\n",
    "from tensorflow.keras import layers\n",
    "from tensorflow.keras.layers import Embedding, LSTM, Conv2D, Conv1D, MaxPooling1D, Dense, Dropout, GlobalMaxPooling1D, Input, Bidirectional, concatenate, Flatten, GlobalAveragePooling1D\n",
    "from tensorflow.keras.preprocessing.text import Tokenizer\n",
    "from tensorflow.keras.optimizers import Adam\n",
    "from tensorflow.keras.preprocessing.sequence import pad_sequences\n",
    "from tensorflow.keras.callbacks import ModelCheckpoint, EarlyStopping\n",
    "from tensorflow.keras.utils import plot_model\n",
    "\n",
    "# physical_devices = tf.config.list_physical_devices('GPU')\n",
    "# tf.config.experimental.set_memory_growth(physical_devices[0], enable=True)\n",
    "\n",
    "# detect and init the TPU\n",
    "tpu = tf.distribute.cluster_resolver.TPUClusterResolver()\n",
    "tf.config.experimental_connect_to_cluster(tpu)\n",
    "tf.tpu.experimental.initialize_tpu_system(tpu)\n",
    "\n",
    "# instantiate a distribution strategy\n",
    "tpu_strategy = tf.distribute.experimental.TPUStrategy(tpu)"
   ]
  },
  {
   "cell_type": "markdown",
   "execution_count": null,
   "metadata": {},
   "source": [
    "# Load data"
   ]
  },
  {
   "cell_type": "code",
   "execution_count": 2,
   "metadata": {
    "_cell_guid": "79c7e3d0-c299-4dcb-8224-4455121ee9b0",
    "_uuid": "d629ff2d2480ee46fbb7e2d37f6b5fab8052498a"
   },
   "outputs": [
    {
     "data": {
      "text/html": [
       "<div>\n",
       "<style scoped>\n",
       "    .dataframe tbody tr th:only-of-type {\n",
       "        vertical-align: middle;\n",
       "    }\n",
       "\n",
       "    .dataframe tbody tr th {\n",
       "        vertical-align: top;\n",
       "    }\n",
       "\n",
       "    .dataframe thead th {\n",
       "        text-align: right;\n",
       "    }\n",
       "</style>\n",
       "<table border=\"1\" class=\"dataframe\">\n",
       "  <thead>\n",
       "    <tr style=\"text-align: right;\">\n",
       "      <th></th>\n",
       "      <th>Class Index</th>\n",
       "    </tr>\n",
       "  </thead>\n",
       "  <tbody>\n",
       "    <tr>\n",
       "      <th>count</th>\n",
       "      <td>120000.000000</td>\n",
       "    </tr>\n",
       "    <tr>\n",
       "      <th>mean</th>\n",
       "      <td>2.500000</td>\n",
       "    </tr>\n",
       "    <tr>\n",
       "      <th>std</th>\n",
       "      <td>1.118039</td>\n",
       "    </tr>\n",
       "    <tr>\n",
       "      <th>min</th>\n",
       "      <td>1.000000</td>\n",
       "    </tr>\n",
       "    <tr>\n",
       "      <th>25%</th>\n",
       "      <td>1.750000</td>\n",
       "    </tr>\n",
       "    <tr>\n",
       "      <th>50%</th>\n",
       "      <td>2.500000</td>\n",
       "    </tr>\n",
       "    <tr>\n",
       "      <th>75%</th>\n",
       "      <td>3.250000</td>\n",
       "    </tr>\n",
       "    <tr>\n",
       "      <th>max</th>\n",
       "      <td>4.000000</td>\n",
       "    </tr>\n",
       "  </tbody>\n",
       "</table>\n",
       "</div>"
      ],
      "text/plain": [
       "         Class Index\n",
       "count  120000.000000\n",
       "mean        2.500000\n",
       "std         1.118039\n",
       "min         1.000000\n",
       "25%         1.750000\n",
       "50%         2.500000\n",
       "75%         3.250000\n",
       "max         4.000000"
      ]
     },
     "execution_count": 2,
     "metadata": {},
     "output_type": "execute_result"
    }
   ],
   "source": [
    "TRAIN_FILE_PATH = '/kaggle/input/ag-news-classification-dataset/train.csv'\n",
    "TEST_FILE_PATH = '/kaggle/input/ag-news-classification-dataset/test.csv'\n",
    "\n",
    "\n",
    "data = pd.read_csv(TRAIN_FILE_PATH)\n",
    "testdata = pd.read_csv(TEST_FILE_PATH)\n",
    "\n",
    "X_train = data['Title'] + \" \" + data['Description']\n",
    "y_train = data['Class Index'].apply(lambda x: x-1).values # Classes need to begin from 0\n",
    "\n",
    "x_test = testdata['Title'] + \" \" + testdata['Description']\n",
    "y_test = testdata['Class Index'].apply(lambda x: x-1).values # Classes need to begin from 0\n",
    "\n",
    "maxlen = X_train.map(lambda x: len(x.split())).max()\n",
    "data.describe()"
   ]
  },
  {
   "cell_type": "markdown",
   "execution_count": null,
   "metadata": {},
   "source": [
    "# Define tokenizer"
   ]
  },
  {
   "cell_type": "code",
   "execution_count": 3,
   "metadata": {},
   "outputs": [
    {
     "data": {
      "application/vnd.jupyter.widget-view+json": {
       "model_id": "88c9beb5731d42c3b281eec93b66c0b3",
       "version_major": 2,
       "version_minor": 0
      },
      "text/plain": [
       "HBox(children=(FloatProgress(value=0.0, description='Downloading', max=231508.0, style=ProgressStyle(descripti…"
      ]
     },
     "metadata": {},
     "output_type": "display_data"
    },
    {
     "name": "stdout",
     "output_type": "stream",
     "text": [
      "\n"
     ]
    }
   ],
   "source": [
    "vocab_size = 20000\n",
    "embed_size = 32\n",
    "distil_bert = 'distilbert-base-uncased'\n",
    "\n",
    "tokenizer = DistilBertTokenizer.from_pretrained(distil_bert, do_lower_case=True, add_special_tokens=True,\n",
    "                                                max_length=maxlen, pad_to_max_length=True)\n",
    "\n",
    "def tokenize(sentences, tokenizer):\n",
    "    input_ids, input_masks, input_segments = [],[],[]\n",
    "    for sentence in tqdm(sentences):\n",
    "        inputs = tokenizer.encode_plus(sentence, add_special_tokens=True, max_length=maxlen, pad_to_max_length=True, \n",
    "                                             return_attention_mask=True, return_token_type_ids=True)\n",
    "        input_ids.append(inputs['input_ids'])\n",
    "        input_masks.append(inputs['attention_mask'])\n",
    "        input_segments.append(inputs['token_type_ids'])        \n",
    "        \n",
    "    return np.asarray(input_ids, dtype='int32'), np.asarray(input_masks, dtype='int32'), np.asarray(input_segments, dtype='int32')"
   ]
  },
  {
   "cell_type": "markdown",
   "execution_count": null,
   "metadata": {},
   "source": [
    "# Tokenize data using defined tokenizer"
   ]
  },
  {
   "cell_type": "code",
   "execution_count": 4,
   "metadata": {},
   "outputs": [
    {
     "name": "stderr",
     "output_type": "stream",
     "text": [
      "100%|██████████| 120000/120000 [04:00<00:00, 499.58it/s]\n",
      "100%|██████████| 7600/7600 [00:14<00:00, 513.91it/s]\n"
     ]
    }
   ],
   "source": [
    "# Tokenize desc and title train data\n",
    "X_train = tokenize(X_train, tokenizer)\n",
    "x_test = tokenize(x_test, tokenizer)"
   ]
  },
  {
   "cell_type": "markdown",
   "execution_count": null,
   "metadata": {},
   "source": [
    "# Define model in TPU scope"
   ]
  },
  {
   "cell_type": "code",
   "execution_count": 5,
   "metadata": {},
   "outputs": [
    {
     "data": {
      "application/vnd.jupyter.widget-view+json": {
       "model_id": "2cafaad3dd5e46b786fca28aade2e8ce",
       "version_major": 2,
       "version_minor": 0
      },
      "text/plain": [
       "HBox(children=(FloatProgress(value=0.0, description='Downloading', max=363423424.0, style=ProgressStyle(descri…"
      ]
     },
     "metadata": {},
     "output_type": "display_data"
    },
    {
     "name": "stdout",
     "output_type": "stream",
     "text": [
      "\n",
      "Model: \"model\"\n",
      "__________________________________________________________________________________________________\n",
      "Layer (type)                    Output Shape         Param #     Connected to                     \n",
      "==================================================================================================\n",
      "input_token (InputLayer)        [(None, 177)]        0                                            \n",
      "__________________________________________________________________________________________________\n",
      "masked_token (InputLayer)       [(None, 177)]        0                                            \n",
      "__________________________________________________________________________________________________\n",
      "tf_distil_bert_model (TFDistilB ((None, 177, 768),)  66362880    input_token[0][0]                \n",
      "__________________________________________________________________________________________________\n",
      "bidirectional (Bidirectional)   (None, 177, 128)     426496      tf_distil_bert_model[0][0]       \n",
      "__________________________________________________________________________________________________\n",
      "global_max_pooling1d (GlobalMax (None, 128)          0           bidirectional[0][0]              \n",
      "__________________________________________________________________________________________________\n",
      "dense (Dense)                   (None, 64)           8256        global_max_pooling1d[0][0]       \n",
      "__________________________________________________________________________________________________\n",
      "dropout_19 (Dropout)            (None, 64)           0           dense[0][0]                      \n",
      "__________________________________________________________________________________________________\n",
      "dense_1 (Dense)                 (None, 4)            260         dropout_19[0][0]                 \n",
      "==================================================================================================\n",
      "Total params: 66,797,892\n",
      "Trainable params: 435,012\n",
      "Non-trainable params: 66,362,880\n",
      "__________________________________________________________________________________________________\n"
     ]
    }
   ],
   "source": [
    "with tpu_strategy.scope():\n",
    "    config = DistilBertConfig(dropout=0.2, attention_dropout=0.2)\n",
    "    config.output_hidden_states = False\n",
    "    transformer_model = TFDistilBertModel.from_pretrained(distil_bert, config=config)\n",
    "\n",
    "    input_ids_in = tf.keras.layers.Input(shape=(maxlen,), name='input_token', dtype='int32')\n",
    "    input_masks_in = tf.keras.layers.Input(shape=(maxlen,), name='masked_token', dtype='int32') \n",
    "\n",
    "    embedding_layer = transformer_model(input_ids_in, attention_mask=input_masks_in)[0]\n",
    "    X = tf.keras.layers.Bidirectional(tf.keras.layers.LSTM(64, return_sequences=True))(embedding_layer)\n",
    "    X = tf.keras.layers.GlobalMaxPool1D()(X)\n",
    "    X = tf.keras.layers.Dense(64, activation='relu')(X)\n",
    "    X = tf.keras.layers.Dropout(0.2)(X)\n",
    "    X = tf.keras.layers.Dense(4, activation='sigmoid')(X)\n",
    "    model = tf.keras.Model(inputs=[input_ids_in, input_masks_in], outputs = X)\n",
    "\n",
    "    for layer in model.layers[:3]:\n",
    "        layer.trainable = False\n",
    "\n",
    "    model.summary()"
   ]
  },
  {
   "cell_type": "markdown",
   "execution_count": null,
   "metadata": {},
   "source": [
    "# Compile and fit model"
   ]
  },
  {
   "cell_type": "code",
   "execution_count": 6,
   "metadata": {},
   "outputs": [],
   "source": [
    "callbacks = [\n",
    "#     EarlyStopping(\n",
    "#         monitor='val_accuracy',\n",
    "#         min_delta=1e-4,\n",
    "#         patience=4,\n",
    "#         verbose=1\n",
    "#     ),\n",
    "    ModelCheckpoint(\n",
    "        filepath='weights.h5',\n",
    "        monitor='val_accuracy', \n",
    "        mode='max', \n",
    "        save_best_only=True,\n",
    "        save_weights_only=True,\n",
    "        verbose=1\n",
    "    )\n",
    "]"
   ]
  },
  {
   "cell_type": "code",
   "execution_count": 7,
   "metadata": {},
   "outputs": [
    {
     "name": "stdout",
     "output_type": "stream",
     "text": [
      "Epoch 1/20\n",
      "118/118 [==============================] - ETA: 0s - loss: 0.4139 - accuracy: 0.8734\n",
      "Epoch 00001: val_accuracy improved from -inf to 0.90868, saving model to weights.h5\n",
      "118/118 [==============================] - 48s 406ms/step - loss: 0.4139 - accuracy: 0.8734 - val_loss: 0.2627 - val_accuracy: 0.9087\n",
      "Epoch 2/20\n",
      "118/118 [==============================] - ETA: 0s - loss: 0.2671 - accuracy: 0.9068\n",
      "Epoch 00002: val_accuracy improved from 0.90868 to 0.91987, saving model to weights.h5\n",
      "118/118 [==============================] - 23s 194ms/step - loss: 0.2671 - accuracy: 0.9068 - val_loss: 0.2267 - val_accuracy: 0.9199\n",
      "Epoch 3/20\n",
      "118/118 [==============================] - ETA: 0s - loss: 0.2339 - accuracy: 0.9173\n",
      "Epoch 00003: val_accuracy improved from 0.91987 to 0.92408, saving model to weights.h5\n",
      "118/118 [==============================] - 22s 190ms/step - loss: 0.2339 - accuracy: 0.9173 - val_loss: 0.2136 - val_accuracy: 0.9241\n",
      "Epoch 4/20\n",
      "118/118 [==============================] - ETA: 0s - loss: 0.2145 - accuracy: 0.9245\n",
      "Epoch 00004: val_accuracy improved from 0.92408 to 0.92921, saving model to weights.h5\n",
      "118/118 [==============================] - 22s 190ms/step - loss: 0.2145 - accuracy: 0.9245 - val_loss: 0.2004 - val_accuracy: 0.9292\n",
      "Epoch 5/20\n",
      "118/118 [==============================] - ETA: 0s - loss: 0.2000 - accuracy: 0.9294\n",
      "Epoch 00005: val_accuracy improved from 0.92921 to 0.93066, saving model to weights.h5\n",
      "118/118 [==============================] - 22s 191ms/step - loss: 0.2000 - accuracy: 0.9294 - val_loss: 0.1951 - val_accuracy: 0.9307\n",
      "Epoch 6/20\n",
      "118/118 [==============================] - ETA: 0s - loss: 0.1875 - accuracy: 0.9345\n",
      "Epoch 00006: val_accuracy improved from 0.93066 to 0.93434, saving model to weights.h5\n",
      "118/118 [==============================] - 23s 192ms/step - loss: 0.1875 - accuracy: 0.9345 - val_loss: 0.1911 - val_accuracy: 0.9343\n",
      "Epoch 7/20\n",
      "118/118 [==============================] - ETA: 0s - loss: 0.1802 - accuracy: 0.9369\n",
      "Epoch 00007: val_accuracy improved from 0.93434 to 0.93750, saving model to weights.h5\n",
      "118/118 [==============================] - 23s 191ms/step - loss: 0.1802 - accuracy: 0.9369 - val_loss: 0.1846 - val_accuracy: 0.9375\n",
      "Epoch 8/20\n",
      "118/118 [==============================] - ETA: 0s - loss: 0.1709 - accuracy: 0.9402\n",
      "Epoch 00008: val_accuracy did not improve from 0.93750\n",
      "118/118 [==============================] - 21s 180ms/step - loss: 0.1709 - accuracy: 0.9402 - val_loss: 0.1881 - val_accuracy: 0.9338\n",
      "Epoch 9/20\n",
      "118/118 [==============================] - ETA: 0s - loss: 0.1641 - accuracy: 0.9428\n",
      "Epoch 00009: val_accuracy improved from 0.93750 to 0.93763, saving model to weights.h5\n",
      "118/118 [==============================] - 22s 191ms/step - loss: 0.1641 - accuracy: 0.9428 - val_loss: 0.1822 - val_accuracy: 0.9376\n",
      "Epoch 10/20\n",
      "118/118 [==============================] - ETA: 0s - loss: 0.1565 - accuracy: 0.9453\n",
      "Epoch 00010: val_accuracy did not improve from 0.93763\n",
      "118/118 [==============================] - 21s 180ms/step - loss: 0.1565 - accuracy: 0.9453 - val_loss: 0.1804 - val_accuracy: 0.9375\n",
      "Epoch 11/20\n",
      "118/118 [==============================] - ETA: 0s - loss: 0.1487 - accuracy: 0.9473\n",
      "Epoch 00011: val_accuracy improved from 0.93763 to 0.93776, saving model to weights.h5\n",
      "118/118 [==============================] - 23s 191ms/step - loss: 0.1487 - accuracy: 0.9473 - val_loss: 0.1830 - val_accuracy: 0.9378\n",
      "Epoch 12/20\n",
      "118/118 [==============================] - ETA: 0s - loss: 0.1428 - accuracy: 0.9495\n",
      "Epoch 00012: val_accuracy improved from 0.93776 to 0.93895, saving model to weights.h5\n",
      "118/118 [==============================] - 22s 190ms/step - loss: 0.1428 - accuracy: 0.9495 - val_loss: 0.1810 - val_accuracy: 0.9389\n",
      "Epoch 13/20\n",
      "118/118 [==============================] - ETA: 0s - loss: 0.1370 - accuracy: 0.9513\n",
      "Epoch 00013: val_accuracy did not improve from 0.93895\n",
      "118/118 [==============================] - 21s 180ms/step - loss: 0.1370 - accuracy: 0.9513 - val_loss: 0.1947 - val_accuracy: 0.9357\n",
      "Epoch 14/20\n",
      "118/118 [==============================] - ETA: 0s - loss: 0.1314 - accuracy: 0.9535\n",
      "Epoch 00014: val_accuracy improved from 0.93895 to 0.93921, saving model to weights.h5\n",
      "118/118 [==============================] - 23s 191ms/step - loss: 0.1314 - accuracy: 0.9535 - val_loss: 0.1858 - val_accuracy: 0.9392\n",
      "Epoch 15/20\n",
      "118/118 [==============================] - ETA: 0s - loss: 0.1252 - accuracy: 0.9559\n",
      "Epoch 00015: val_accuracy improved from 0.93921 to 0.94092, saving model to weights.h5\n",
      "118/118 [==============================] - 22s 190ms/step - loss: 0.1252 - accuracy: 0.9559 - val_loss: 0.1813 - val_accuracy: 0.9409\n",
      "Epoch 16/20\n",
      "118/118 [==============================] - ETA: 0s - loss: 0.1220 - accuracy: 0.9563\n",
      "Epoch 00016: val_accuracy did not improve from 0.94092\n",
      "118/118 [==============================] - 21s 180ms/step - loss: 0.1220 - accuracy: 0.9563 - val_loss: 0.1840 - val_accuracy: 0.9391\n",
      "Epoch 17/20\n",
      "118/118 [==============================] - ETA: 0s - loss: 0.1150 - accuracy: 0.9593\n",
      "Epoch 00017: val_accuracy did not improve from 0.94092\n",
      "118/118 [==============================] - 21s 180ms/step - loss: 0.1150 - accuracy: 0.9593 - val_loss: 0.2062 - val_accuracy: 0.9318\n",
      "Epoch 18/20\n",
      "118/118 [==============================] - ETA: 0s - loss: 0.1102 - accuracy: 0.9602\n",
      "Epoch 00018: val_accuracy did not improve from 0.94092\n",
      "118/118 [==============================] - 21s 180ms/step - loss: 0.1102 - accuracy: 0.9602 - val_loss: 0.2010 - val_accuracy: 0.9378\n",
      "Epoch 19/20\n",
      "118/118 [==============================] - ETA: 0s - loss: 0.1052 - accuracy: 0.9615\n",
      "Epoch 00019: val_accuracy did not improve from 0.94092\n",
      "118/118 [==============================] - 21s 180ms/step - loss: 0.1052 - accuracy: 0.9615 - val_loss: 0.1922 - val_accuracy: 0.9400\n",
      "Epoch 20/20\n",
      "118/118 [==============================] - ETA: 0s - loss: 0.1007 - accuracy: 0.9633\n",
      "Epoch 00020: val_accuracy did not improve from 0.94092\n",
      "118/118 [==============================] - 21s 179ms/step - loss: 0.1007 - accuracy: 0.9633 - val_loss: 0.1949 - val_accuracy: 0.9400\n"
     ]
    },
    {
     "data": {
      "text/plain": [
       "<tensorflow.python.keras.callbacks.History at 0x7f76080ee490>"
      ]
     },
     "execution_count": 7,
     "metadata": {},
     "output_type": "execute_result"
    }
   ],
   "source": [
    "model.compile(loss='sparse_categorical_crossentropy', optimizer='adam', metrics=['accuracy'])\n",
    "model.fit(X_train, y_train, batch_size=1024, validation_data=(x_test, y_test), epochs=20, callbacks=callbacks)"
   ]
  },
  {
   "cell_type": "code",
   "execution_count": 8,
   "metadata": {},
   "outputs": [],
   "source": [
    "model.load_weights('weights.h5')"
   ]
  },
  {
   "cell_type": "markdown",
   "execution_count": null,
   "metadata": {},
   "source": [
    "# Test model with some arbitrary data"
   ]
  },
  {
   "cell_type": "code",
   "execution_count": 9,
   "metadata": {},
   "outputs": [
    {
     "name": "stderr",
     "output_type": "stream",
     "text": [
      "100%|██████████| 4/4 [00:00<00:00, 1522.16it/s]\n"
     ]
    },
    {
     "name": "stdout",
     "output_type": "stream",
     "text": [
      "New evidence of virus risks from wildlife trade - Science-Technology News\n",
      "Coronavirus: Bank pumps £100bn into UK economy to aid recovery - Business News\n",
      "Trump's bid to end Obama-era immigration policy ruled unlawful - Business News\n",
      "David Luiz’s future with Arsenal to be decided this week - Business News\n"
     ]
    }
   ],
   "source": [
    "labels = ['World News', 'Sports News', 'Business News', 'Science-Technology News']\n",
    "\n",
    "test = ['New evidence of virus risks from wildlife trade', 'Coronavirus: Bank pumps £100bn into UK economy to aid recovery', \n",
    "        'Trump\\'s bid to end Obama-era immigration policy ruled unlawful', 'David Luiz’s future with Arsenal to be decided this week']\n",
    "test_seq = tokenize(test, tokenizer)\n",
    "test_preds = [labels[np.argmax(i)] for i in model.predict(test_seq)]\n",
    "\n",
    "for news, label in zip(test, test_preds):\n",
    "    print('{} - {}'.format(news, label))"
   ]
  },
  {
   "cell_type": "markdown",
   "execution_count": null,
   "metadata": {},
   "source": [
    "# Plot confusion matrix"
   ]
  },
  {
   "cell_type": "code",
   "execution_count": 10,
   "metadata": {},
   "outputs": [
    {
     "data": {
      "text/plain": [
       "<Figure size 432x288 with 0 Axes>"
      ]
     },
     "metadata": {},
     "output_type": "display_data"
    },
    {
     "data": {
      "image/png": "[encoded data removed]",
      "text/plain": [
       "<Figure size 1152x864 with 1 Axes>"
      ]
     },
     "metadata": {
      "needs_background": "light"
     },
     "output_type": "display_data"
    }
   ],
   "source": [
    "preds = [np.argmax(i) for i in model.predict(x_test)]\n",
    "cm  = confusion_matrix(y_test, preds)\n",
    "plt.figure()\n",
    "plot_confusion_matrix(cm, figsize=(16,12), hide_ticks=True, cmap=plt.cm.Blues)\n",
    "plt.xticks(range(4), labels, fontsize=12)\n",
    "plt.yticks(range(4), labels, fontsize=12)\n",
    "plt.show()"
   ]
  },
  {
   "cell_type": "markdown",
   "execution_count": null,
   "metadata": {},
   "source": [
    "# Get precision and recall scores"
   ]
  },
  {
   "cell_type": "code",
   "execution_count": 11,
   "metadata": {},
   "outputs": [
    {
     "name": "stdout",
     "output_type": "stream",
     "text": [
      "Recall of the model is 0.94\n",
      "Precision of the model is 0.94\n"
     ]
    }
   ],
   "source": [
    "print(\"Recall of the model is {:.2f}\".format(recall_score(y_test, preds, average='micro')))\n",
    "print(\"Precision of the model is {:.2f}\".format(precision_score(y_test, preds, average='micro')))"
   ]
  }
 ],
 "metadata": {
  "kernelspec": {
   "display_name": "Python 3",
   "language": "python",
   "name": "python3"
  },
  "language_info": {
   "codemirror_mode": {
    "name": "ipython",
    "version": 3
   },
   "file_extension": ".py",
   "mimetype": "text/x-python",
   "name": "python",
   "nbconvert_exporter": "python",
   "pygments_lexer": "ipython3",
   "version": "3.7.6"
  },
  "widgets": {
   "application/vnd.jupyter.widget-state+json": {
    "state": {
     "02ce362c222d4853a961e3813ef84829": {
      "model_module": "@jupyter-widgets/base",
      "model_module_version": "1.2.0",
      "model_name": "LayoutModel",
      "state": {
       "_model_module": "@jupyter-widgets/base",
       "_model_module_version": "1.2.0",
       "_model_name": "LayoutModel",
       "_view_count": null,
       "_view_module": "@jupyter-widgets/base",
       "_view_module_version": "1.2.0",
       "_view_name": "LayoutView",
       "align_content": null,
       "align_items": null,
       "align_self": null,
       "border": null,
       "bottom": null,
       "display": null,
       "flex": null,
       "flex_flow": null,
       "grid_area": null,
       "grid_auto_columns": null,
       "grid_auto_flow": null,
       "grid_auto_rows": null,
       "grid_column": null,
       "grid_gap": null,
       "grid_row": null,
       "grid_template_areas": null,
       "grid_template_columns": null,
       "grid_template_rows": null,
       "height": null,
       "justify_content": null,
       "justify_items": null,
       "left": null,
       "margin": null,
       "max_height": null,
       "max_width": null,
       "min_height": null,
       "min_width": null,
       "object_fit": null,
       "object_position": null,
       "order": null,
       "overflow": null,
       "overflow_x": null,
       "overflow_y": null,
       "padding": null,
       "right": null,
       "top": null,
       "visibility": null,
       "width": null
      }
     },
     "0a43fb4b757a4045a0b1516055836bd2": {
      "model_module": "@jupyter-widgets/controls",
      "model_module_version": "1.5.0",
      "model_name": "ProgressStyleModel",
      "state": {
       "_model_module": "@jupyter-widgets/controls",
       "_model_module_version": "1.5.0",
       "_model_name": "ProgressStyleModel",
       "_view_count": null,
       "_view_module": "@jupyter-widgets/base",
       "_view_module_version": "1.2.0",
       "_view_name": "StyleView",
       "bar_color": null,
       "description_width": "initial"
      }
     },
     "105a694e457f48868cfae02d27edc644": {
      "model_module": "@jupyter-widgets/controls",
      "model_module_version": "1.5.0",
      "model_name": "FloatProgressModel",
      "state": {
       "_dom_classes": [],
       "_model_module": "@jupyter-widgets/controls",
       "_model_module_version": "1.5.0",
       "_model_name": "FloatProgressModel",
       "_view_count": null,
       "_view_module": "@jupyter-widgets/controls",
       "_view_module_version": "1.5.0",
       "_view_name": "ProgressView",
       "bar_style": "success",
       "description": "Downloading: 100%",
       "description_tooltip": null,
       "layout": "IPY_MODEL_8801f96a8257405c809107974bd0ff0d",
       "max": 231508.0,
       "min": 0.0,
       "orientation": "horizontal",
       "style": "IPY_MODEL_0a43fb4b757a4045a0b1516055836bd2",
       "value": 231508.0
      }
     },
     "2cafaad3dd5e46b786fca28aade2e8ce": {
      "model_module": "@jupyter-widgets/controls",
      "model_module_version": "1.5.0",
      "model_name": "HBoxModel",
      "state": {
       "_dom_classes": [],
       "_model_module": "@jupyter-widgets/controls",
       "_model_module_version": "1.5.0",
       "_model_name": "HBoxModel",
       "_view_count": null,
       "_view_module": "@jupyter-widgets/controls",
       "_view_module_version": "1.5.0",
       "_view_name": "HBoxView",
       "box_style": "",
       "children": [
        "IPY_MODEL_78df8fd69d59497e86be7718032a5b4f",
        "IPY_MODEL_5dadc292a87b4fb7972c8bae579d77f0"
       ],
       "layout": "IPY_MODEL_7a24452b58b24ff881fe90adf2efe7d2"
      }
     },
     "3cb066aa5841473294fe56ea22b591c2": {
      "model_module": "@jupyter-widgets/controls",
      "model_module_version": "1.5.0",
      "model_name": "DescriptionStyleModel",
      "state": {
       "_model_module": "@jupyter-widgets/controls",
       "_model_module_version": "1.5.0",
       "_model_name": "DescriptionStyleModel",
       "_view_count": null,
       "_view_module": "@jupyter-widgets/base",
       "_view_module_version": "1.2.0",
       "_view_name": "StyleView",
       "description_width": ""
      }
     },
     "43860433f922440ba8d73ed19e608f47": {
      "model_module": "@jupyter-widgets/base",
      "model_module_version": "1.2.0",
      "model_name": "LayoutModel",
      "state": {
       "_model_module": "@jupyter-widgets/base",
       "_model_module_version": "1.2.0",
       "_model_name": "LayoutModel",
       "_view_count": null,
       "_view_module": "@jupyter-widgets/base",
       "_view_module_version": "1.2.0",
       "_view_name": "LayoutView",
       "align_content": null,
       "align_items": null,
       "align_self": null,
       "border": null,
       "bottom": null,
       "display": null,
       "flex": null,
       "flex_flow": null,
       "grid_area": null,
       "grid_auto_columns": null,
       "grid_auto_flow": null,
       "grid_auto_rows": null,
       "grid_column": null,
       "grid_gap": null,
       "grid_row": null,
       "grid_template_areas": null,
       "grid_template_columns": null,
       "grid_template_rows": null,
       "height": null,
       "justify_content": null,
       "justify_items": null,
       "left": null,
       "margin": null,
       "max_height": null,
       "max_width": null,
       "min_height": null,
       "min_width": null,
       "object_fit": null,
       "object_position": null,
       "order": null,
       "overflow": null,
       "overflow_x": null,
       "overflow_y": null,
       "padding": null,
       "right": null,
       "top": null,
       "visibility": null,
       "width": null
      }
     },
     "5dadc292a87b4fb7972c8bae579d77f0": {
      "model_module": "@jupyter-widgets/controls",
      "model_module_version": "1.5.0",
      "model_name": "HTMLModel",
      "state": {
       "_dom_classes": [],
       "_model_module": "@jupyter-widgets/controls",
       "_model_module_version": "1.5.0",
       "_model_name": "HTMLModel",
       "_view_count": null,
       "_view_module": "@jupyter-widgets/controls",
       "_view_module_version": "1.5.0",
       "_view_name": "HTMLView",
       "description": "",
       "description_tooltip": null,
       "layout": "IPY_MODEL_9e7ad18a388142b38996163ed1a2769b",
       "placeholder": "​",
       "style": "IPY_MODEL_b65b216198f84e8f96b3a5be3b81e17f",
       "value": " 363M/363M [00:12&lt;00:00, 30.0MB/s]"
      }
     },
     "78df8fd69d59497e86be7718032a5b4f": {
      "model_module": "@jupyter-widgets/controls",
      "model_module_version": "1.5.0",
      "model_name": "FloatProgressModel",
      "state": {
       "_dom_classes": [],
       "_model_module": "@jupyter-widgets/controls",
       "_model_module_version": "1.5.0",
       "_model_name": "FloatProgressModel",
       "_view_count": null,
       "_view_module": "@jupyter-widgets/controls",
       "_view_module_version": "1.5.0",
       "_view_name": "ProgressView",
       "bar_style": "success",
       "description": "Downloading: 100%",
       "description_tooltip": null,
       "layout": "IPY_MODEL_02ce362c222d4853a961e3813ef84829",
       "max": 363423424.0,
       "min": 0.0,
       "orientation": "horizontal",
       "style": "IPY_MODEL_825657b5458e4ecba31a9ab4f27b4c69",
       "value": 363423424.0
      }
     },
     "7a24452b58b24ff881fe90adf2efe7d2": {
      "model_module": "@jupyter-widgets/base",
      "model_module_version": "1.2.0",
      "model_name": "LayoutModel",
      "state": {
       "_model_module": "@jupyter-widgets/base",
       "_model_module_version": "1.2.0",
       "_model_name": "LayoutModel",
       "_view_count": null,
       "_view_module": "@jupyter-widgets/base",
       "_view_module_version": "1.2.0",
       "_view_name": "LayoutView",
       "align_content": null,
       "align_items": null,
       "align_self": null,
       "border": null,
       "bottom": null,
       "display": null,
       "flex": null,
       "flex_flow": null,
       "grid_area": null,
       "grid_auto_columns": null,
       "grid_auto_flow": null,
       "grid_auto_rows": null,
       "grid_column": null,
       "grid_gap": null,
       "grid_row": null,
       "grid_template_areas": null,
       "grid_template_columns": null,
       "grid_template_rows": null,
       "height": null,
       "justify_content": null,
       "justify_items": null,
       "left": null,
       "margin": null,
       "max_height": null,
       "max_width": null,
       "min_height": null,
       "min_width": null,
       "object_fit": null,
       "object_position": null,
       "order": null,
       "overflow": null,
       "overflow_x": null,
       "overflow_y": null,
       "padding": null,
       "right": null,
       "top": null,
       "visibility": null,
       "width": null
      }
     },
     "825657b5458e4ecba31a9ab4f27b4c69": {
      "model_module": "@jupyter-widgets/controls",
      "model_module_version": "1.5.0",
      "model_name": "ProgressStyleModel",
      "state": {
       "_model_module": "@jupyter-widgets/controls",
       "_model_module_version": "1.5.0",
       "_model_name": "ProgressStyleModel",
       "_view_count": null,
       "_view_module": "@jupyter-widgets/base",
       "_view_module_version": "1.2.0",
       "_view_name": "StyleView",
       "bar_color": null,
       "description_width": "initial"
      }
     },
     "8801f96a8257405c809107974bd0ff0d": {
      "model_module": "@jupyter-widgets/base",
      "model_module_version": "1.2.0",
      "model_name": "LayoutModel",
      "state": {
       "_model_module": "@jupyter-widgets/base",
       "_model_module_version": "1.2.0",
       "_model_name": "LayoutModel",
       "_view_count": null,
       "_view_module": "@jupyter-widgets/base",
       "_view_module_version": "1.2.0",
       "_view_name": "LayoutView",
       "align_content": null,
       "align_items": null,
       "align_self": null,
       "border": null,
       "bottom": null,
       "display": null,
       "flex": null,
       "flex_flow": null,
       "grid_area": null,
       "grid_auto_columns": null,
       "grid_auto_flow": null,
       "grid_auto_rows": null,
       "grid_column": null,
       "grid_gap": null,
       "grid_row": null,
       "grid_template_areas": null,
       "grid_template_columns": null,
       "grid_template_rows": null,
       "height": null,
       "justify_content": null,
       "justify_items": null,
       "left": null,
       "margin": null,
       "max_height": null,
       "max_width": null,
       "min_height": null,
       "min_width": null,
       "object_fit": null,
       "object_position": null,
       "order": null,
       "overflow": null,
       "overflow_x": null,
       "overflow_y": null,
       "padding": null,
       "right": null,
       "top": null,
       "visibility": null,
       "width": null
      }
     },
     "88c9beb5731d42c3b281eec93b66c0b3": {
      "model_module": "@jupyter-widgets/controls",
      "model_module_version": "1.5.0",
      "model_name": "HBoxModel",
      "state": {
       "_dom_classes": [],
       "_model_module": "@jupyter-widgets/controls",
       "_model_module_version": "1.5.0",
       "_model_name": "HBoxModel",
       "_view_count": null,
       "_view_module": "@jupyter-widgets/controls",
       "_view_module_version": "1.5.0",
       "_view_name": "HBoxView",
       "box_style": "",
       "children": [
        "IPY_MODEL_105a694e457f48868cfae02d27edc644",
        "IPY_MODEL_e150433f606d4631b63a211c9dff18c9"
       ],
       "layout": "IPY_MODEL_43860433f922440ba8d73ed19e608f47"
      }
     },
     "8f52d74747bd4b018ba969d65cb0285c": {
      "model_module": "@jupyter-widgets/base",
      "model_module_version": "1.2.0",
      "model_name": "LayoutModel",
      "state": {
       "_model_module": "@jupyter-widgets/base",
       "_model_module_version": "1.2.0",
       "_model_name": "LayoutModel",
       "_view_count": null,
       "_view_module": "@jupyter-widgets/base",
       "_view_module_version": "1.2.0",
       "_view_name": "LayoutView",
       "align_content": null,
       "align_items": null,
       "align_self": null,
       "border": null,
       "bottom": null,
       "display": null,
       "flex": null,
       "flex_flow": null,
       "grid_area": null,
       "grid_auto_columns": null,
       "grid_auto_flow": null,
       "grid_auto_rows": null,
       "grid_column": null,
       "grid_gap": null,
       "grid_row": null,
       "grid_template_areas": null,
       "grid_template_columns": null,
       "grid_template_rows": null,
       "height": null,
       "justify_content": null,
       "justify_items": null,
       "left": null,
       "margin": null,
       "max_height": null,
       "max_width": null,
       "min_height": null,
       "min_width": null,
       "object_fit": null,
       "object_position": null,
       "order": null,
       "overflow": null,
       "overflow_x": null,
       "overflow_y": null,
       "padding": null,
       "right": null,
       "top": null,
       "visibility": null,
       "width": null
      }
     },
     "9e7ad18a388142b38996163ed1a2769b": {
      "model_module": "@jupyter-widgets/base",
      "model_module_version": "1.2.0",
      "model_name": "LayoutModel",
      "state": {
       "_model_module": "@jupyter-widgets/base",
       "_model_module_version": "1.2.0",
       "_model_name": "LayoutModel",
       "_view_count": null,
       "_view_module": "@jupyter-widgets/base",
       "_view_module_version": "1.2.0",
       "_view_name": "LayoutView",
       "align_content": null,
       "align_items": null,
       "align_self": null,
       "border": null,
       "bottom": null,
       "display": null,
       "flex": null,
       "flex_flow": null,
       "grid_area": null,
       "grid_auto_columns": null,
       "grid_auto_flow": null,
       "grid_auto_rows": null,
       "grid_column": null,
       "grid_gap": null,
       "grid_row": null,
       "grid_template_areas": null,
       "grid_template_columns": null,
       "grid_template_rows": null,
       "height": null,
       "justify_content": null,
       "justify_items": null,
       "left": null,
       "margin": null,
       "max_height": null,
       "max_width": null,
       "min_height": null,
       "min_width": null,
       "object_fit": null,
       "object_position": null,
       "order": null,
       "overflow": null,
       "overflow_x": null,
       "overflow_y": null,
       "padding": null,
       "right": null,
       "top": null,
       "visibility": null,
       "width": null
      }
     },
     "b65b216198f84e8f96b3a5be3b81e17f": {
      "model_module": "@jupyter-widgets/controls",
      "model_module_version": "1.5.0",
      "model_name": "DescriptionStyleModel",
      "state": {
       "_model_module": "@jupyter-widgets/controls",
       "_model_module_version": "1.5.0",
       "_model_name": "DescriptionStyleModel",
       "_view_count": null,
       "_view_module": "@jupyter-widgets/base",
       "_view_module_version": "1.2.0",
       "_view_name": "StyleView",
       "description_width": ""
      }
     },
     "e150433f606d4631b63a211c9dff18c9": {
      "model_module": "@jupyter-widgets/controls",
      "model_module_version": "1.5.0",
      "model_name": "HTMLModel",
      "state": {
       "_dom_classes": [],
       "_model_module": "@jupyter-widgets/controls",
       "_model_module_version": "1.5.0",
       "_model_name": "HTMLModel",
       "_view_count": null,
       "_view_module": "@jupyter-widgets/controls",
       "_view_module_version": "1.5.0",
       "_view_name": "HTMLView",
       "description": "",
       "description_tooltip": null,
       "layout": "IPY_MODEL_8f52d74747bd4b018ba969d65cb0285c",
       "placeholder": "​",
       "style": "IPY_MODEL_3cb066aa5841473294fe56ea22b591c2",
       "value": " 232k/232k [00:00&lt;00:00, 1.50MB/s]"
      }
     }
    },
    "version_major": 2,
    "version_minor": 0
   }
  }
 },
 "nbformat": 4,
 "nbformat_minor": 4
}
